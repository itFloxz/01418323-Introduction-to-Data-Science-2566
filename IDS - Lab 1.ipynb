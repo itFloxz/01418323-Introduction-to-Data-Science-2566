{
 "cells": [
  {
   "cell_type": "markdown",
   "metadata": {},
   "source": [
    "# Exercises: Basic Python (Questions)\n",
    "\n",
    "จงตอบคำถามดังต่อไปนี้  (ให้ใช้ method ตามที่กำหนดให้)"
   ]
  },
  {
   "cell_type": "markdown",
   "metadata": {},
   "source": [
    "**หาค่า 7 ยกกำลัง 4 ?**"
   ]
  },
  {
   "cell_type": "code",
   "execution_count": 1,
   "metadata": {},
   "outputs": [
    {
     "data": {
      "text/plain": [
       "2401"
      ]
     },
     "execution_count": 1,
     "metadata": {},
     "output_type": "execute_result"
    }
   ],
   "source": [
    "7**4"
   ]
  },
  {
   "cell_type": "markdown",
   "metadata": {},
   "source": [
    "**Split this string:**\n",
    "\n",
    "    s = \"Hi there Sam!\"\n",
    "    \n",
    "**into a list. **"
   ]
  },
  {
   "cell_type": "code",
   "execution_count": 11,
   "metadata": {},
   "outputs": [],
   "source": [
    "s = 'Hi there Sam!'"
   ]
  },
  {
   "cell_type": "code",
   "execution_count": 12,
   "metadata": {},
   "outputs": [
    {
     "data": {
      "text/plain": [
       "['Hi', 'there', 'Sam!']"
      ]
     },
     "execution_count": 12,
     "metadata": {},
     "output_type": "execute_result"
    }
   ],
   "source": [
    "s.split()"
   ]
  },
  {
   "cell_type": "markdown",
   "metadata": {},
   "source": [
    "** กำหนดให้ variables:**\n",
    "\n",
    "    planet = \"Earth\"\n",
    "    diameter = 12742\n",
    "\n",
    "**  จง print ข้อความ string ดังต่อไปนี้ ด้วยคำสั่ง .format(): **\n",
    "\n",
    "    The diameter of Earth is 12742 kilometers."
   ]
  },
  {
   "cell_type": "code",
   "execution_count": 60,
   "metadata": {},
   "outputs": [],
   "source": [
    "planet = \"Earth\"\n",
    "diameter = 12742"
   ]
  },
  {
   "cell_type": "code",
   "execution_count": 70,
   "metadata": {},
   "outputs": [
    {
     "name": "stdout",
     "output_type": "stream",
     "text": [
      "The diameter of Earth is 12742 Kilometer\n"
     ]
    }
   ],
   "source": [
    "print(\"The diameter of \"+planet+\" is \"+str(diameter)+ \" Kilometer\")"
   ]
  },
  {
   "cell_type": "markdown",
   "metadata": {},
   "source": [
    "** จงใช้ความรู้เรื่อง indexing แล้ว print คำว่า \"hello\" จาก list ที่กำหนดให้ **"
   ]
  },
  {
   "cell_type": "code",
   "execution_count": 13,
   "metadata": {},
   "outputs": [],
   "source": [
    "lst = [1,2,[3,4],[5,[100,200,['hello']],23,11],1,7]"
   ]
  },
  {
   "cell_type": "code",
   "execution_count": 22,
   "metadata": {},
   "outputs": [
    {
     "data": {
      "text/plain": [
       "['hello']"
      ]
     },
     "execution_count": 22,
     "metadata": {},
     "output_type": "execute_result"
    }
   ],
   "source": [
    "lst[3][1][2]"
   ]
  },
  {
   "cell_type": "markdown",
   "metadata": {},
   "source": [
    "** จง print คำว่า hello\" จาก dictionary ที่กำหนดให้ **"
   ]
  },
  {
   "cell_type": "code",
   "execution_count": 32,
   "metadata": {},
   "outputs": [],
   "source": [
    "d = {'k1':[1,2,3,{'tricky':['oh','man','inception',{'target':[1,2,3,'hello']}]}] , 'k2': 45}"
   ]
  },
  {
   "cell_type": "code",
   "execution_count": 50,
   "metadata": {},
   "outputs": [
    {
     "data": {
      "text/plain": [
       "'hello'"
      ]
     },
     "execution_count": 50,
     "metadata": {},
     "output_type": "execute_result"
    }
   ],
   "source": [
    "d['k1'][3]['tricky'][3]['target'][3]"
   ]
  },
  {
   "cell_type": "markdown",
   "metadata": {},
   "source": [
    "** จง Comment บอกข้อแตกต่างหลักๆระหว่าง tuple และ list **"
   ]
  },
  {
   "cell_type": "code",
   "execution_count": 37,
   "metadata": {},
   "outputs": [],
   "source": [
    "# tuple ไม่สามารถเปลี่ยนแปลงค่าที่อยู่ด้านในได้ แต่ list สามารถเปลี่ยนแปลงค่าที่อยู่ด้านในได้"
   ]
  },
  {
   "cell_type": "markdown",
   "metadata": {},
   "source": [
    "** จงสร้าง function ที่ทำหน้าที่กำหนด website domain ด้วนการ input email ที่เป็นตัวแปรประเภท string หรือข้อความในรูปแบบดังต้อไปนี้: **\n",
    "\n",
    "    user@domain.com\n",
    "    \n",
    "**Example, ให้ค่า input คือ \"user@domain.com\" จากนั้นให้ return \"domain.com\" ออกมา**"
   ]
  },
  {
   "cell_type": "code",
   "execution_count": 83,
   "metadata": {},
   "outputs": [],
   "source": [
    "def domainGet(i):\n",
    "    return i.split('@')[-1]"
   ]
  },
  {
   "cell_type": "code",
   "execution_count": 84,
   "metadata": {},
   "outputs": [
    {
     "data": {
      "text/plain": [
       "'domain.com'"
      ]
     },
     "execution_count": 84,
     "metadata": {},
     "output_type": "execute_result"
    }
   ],
   "source": [
    "domainGet('user@domain.com')"
   ]
  },
  {
   "cell_type": "markdown",
   "metadata": {},
   "source": [
    "** จงสร้าง function ที่ทำหน้านี้ returns ค่า Boolean ถ้าเจอคำว่า 'dog' ใน input string ให้ return True นอกนั้น False โดยจะต้องไม่มี punctuation ติดอยู่กับคำว่า dog ได้ แต่ว่าเป็นอักษร พิมพ์ใหญ่ หรือ พิมพ์เล็กก็ได้ **"
   ]
  },
  {
   "cell_type": "code",
   "execution_count": 94,
   "metadata": {},
   "outputs": [],
   "source": [
    "def findDog(i):\n",
    "    return 'dog' in i.lower().split()"
   ]
  },
  {
   "cell_type": "code",
   "execution_count": 95,
   "metadata": {},
   "outputs": [
    {
     "data": {
      "text/plain": [
       "True"
      ]
     },
     "execution_count": 95,
     "metadata": {},
     "output_type": "execute_result"
    }
   ],
   "source": [
    "findDog('Is there a dog here?')"
   ]
  },
  {
   "cell_type": "markdown",
   "metadata": {},
   "source": [
    "** จงสร้าง function ที่ return จำนวนของคำว่า \"dog\" ที่ปรากฏใน input ที่เป็น string ที่อักษร พิมพ์ใหญ่ หรือ พิมพ์เล็กก็ได้. **"
   ]
  },
  {
   "cell_type": "code",
   "execution_count": 106,
   "metadata": {},
   "outputs": [],
   "source": [
    "def countDog(i):\n",
    "    return i.lower().count('dog')"
   ]
  },
  {
   "cell_type": "code",
   "execution_count": 107,
   "metadata": {},
   "outputs": [
    {
     "data": {
      "text/plain": [
       "2"
      ]
     },
     "execution_count": 107,
     "metadata": {},
     "output_type": "execute_result"
    }
   ],
   "source": [
    "countDog('This dog runs faster than the other Dog dude!')"
   ]
  },
  {
   "cell_type": "markdown",
   "metadata": {},
   "source": [
    "** ให้ใช้ lambda expressions และ ฟังก์ชั้น filter() เพื่อทำการ filter หรือตัดคำที่อยู่ใน list ที่ไม่ขึ้นต้นด้วยอักษร 's' ออก เช่น**\n",
    "\n",
    "    seq = ['soup','dog','salad','cat','great']\n",
    "\n",
    "**หลังจาก filter และจะต้องเป็นดังนี้**\n",
    "\n",
    "    ['soup','salad']"
   ]
  },
  {
   "cell_type": "code",
   "execution_count": 11,
   "metadata": {},
   "outputs": [],
   "source": [
    "seq = ['soup','dog','salad','cats','great']"
   ]
  },
  {
   "cell_type": "code",
   "execution_count": 20,
   "metadata": {},
   "outputs": [
    {
     "data": {
      "text/plain": [
       "['soup', 'salad']"
      ]
     },
     "execution_count": 20,
     "metadata": {},
     "output_type": "execute_result"
    }
   ],
   "source": []
  },
  {
   "cell_type": "markdown",
   "metadata": {},
   "source": [
    "** ให้สร้างฟังก์ชั่นตัดคำที่ไม่มีตัวอักษร 's' ออก  โดยใช้งานคู่กับฟังก์ชั่น filter() เพื่อทำการตัดคำใน list เช่น**\n",
    "\n",
    "seq = ['soup','dog','salad','cats','great']\n",
    "หลังจาก filter และจะต้องเป็นดังนี้\n",
    "\n",
    "['soup','salad','cats']"
   ]
  },
  {
   "cell_type": "code",
   "execution_count": 28,
   "metadata": {},
   "outputs": [],
   "source": [
    "seq = ['soup','dog','salad','cats','great']"
   ]
  },
  {
   "cell_type": "code",
   "execution_count": 29,
   "metadata": {},
   "outputs": [
    {
     "name": "stdout",
     "output_type": "stream",
     "text": [
      "['soup','salad','cats']\n"
     ]
    }
   ],
   "source": []
  },
  {
   "cell_type": "markdown",
   "metadata": {},
   "source": [
    "### Final Problem\n",
    "**จงเขียนโปรแกรมช่วยเจ้าหน้าที่ตำรวจคำนวณค่าปรับการในการตรวจจับผู้ที่ขับเร็วเกินกำหนด โดยให้ return ดังนี้**\n",
    "- return :  \"No ticket\" หากขับรถที่ความไม่เกิน 60 km/hr\n",
    "- return :  \"Small ticket\" หากขับรถที่ความเร็วเกินกว่า 60 km/hr แต่ไม่เกิน 80 km/hr\n",
    "- return :  \"Big ticket\"หากขับรถที่ความเร็วเกินกว่า 80 km/hr ขึ้นไป\n",
    "ในการตรวจจับความเร็วนี้ มีกฏอยู่ว่า ถ้าเป็นวันเกิดของผู้ขับ ความเร็วที่ตรวจจะต่ำกว่าความเป็นจริง 5 km/hr (parameter ในการระบุวันเกิด ให้ใช้ตัวแปรประเภท boolean)\n"
   ]
  },
  {
   "cell_type": "code",
   "execution_count": 46,
   "metadata": {},
   "outputs": [],
   "source": [
    "\n",
    "    "
   ]
  },
  {
   "cell_type": "code",
   "execution_count": 47,
   "metadata": {},
   "outputs": [
    {
     "data": {
      "text/plain": [
       "'Small Ticket'"
      ]
     },
     "execution_count": 47,
     "metadata": {},
     "output_type": "execute_result"
    }
   ],
   "source": [
    "caught_speeding(81,True)"
   ]
  },
  {
   "cell_type": "code",
   "execution_count": 49,
   "metadata": {},
   "outputs": [
    {
     "data": {
      "text/plain": [
       "'Big Ticket'"
      ]
     },
     "execution_count": 49,
     "metadata": {},
     "output_type": "execute_result"
    }
   ],
   "source": [
    "caught_speeding(81,False)"
   ]
  },
  {
   "cell_type": "markdown",
   "metadata": {},
   "source": [
    "### ----- ภาวนามยปัญญา ปัญญาที่เกิดจากการลงมือทำ! -----"
   ]
  }
 ],
 "metadata": {
  "kernelspec": {
   "display_name": "Python 3 (ipykernel)",
   "language": "python",
   "name": "python3"
  },
  "language_info": {
   "codemirror_mode": {
    "name": "ipython",
    "version": 3
   },
   "file_extension": ".py",
   "mimetype": "text/x-python",
   "name": "python",
   "nbconvert_exporter": "python",
   "pygments_lexer": "ipython3",
   "version": "3.11.5"
  }
 },
 "nbformat": 4,
 "nbformat_minor": 1
}
